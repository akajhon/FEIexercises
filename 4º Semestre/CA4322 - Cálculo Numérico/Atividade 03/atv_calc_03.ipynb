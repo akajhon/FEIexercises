{
 "cells": [
  {
   "cell_type": "raw",
   "id": "56ffe631",
   "metadata": {},
   "source": [
    "[+] Exercício 1 [+]"
   ]
  },
  {
   "cell_type": "raw",
   "id": "18802c12",
   "metadata": {},
   "source": [
    "[=] Interpolação Linear com Dois Pontos [=]"
   ]
  },
  {
   "cell_type": "code",
   "execution_count": 12,
   "id": "f8a96a13",
   "metadata": {
    "scrolled": true
   },
   "outputs": [
    {
     "name": "stdout",
     "output_type": "stream",
     "text": [
      "[=] [2.5 0.2]\n",
      "[=] Resultado da Interpolação Linear com dois pontos:  22.7\n"
     ]
    }
   ],
   "source": [
    "import sympy as sy\n",
    "import numpy as np\n",
    "from scipy.interpolate import lagrange\n",
    "from numpy.polynomial.polynomial import Polynomial\n",
    "x=[7,14]\n",
    "y=[17.7,35.2]\n",
    "x = np.array(x)\n",
    "y = np.array(y)\n",
    "# valor 1 representa o grau do polinomio\n",
    "z = np.polyfit(x, y, 1)\n",
    "print(\"[=]\", z)\n",
    "p = np.poly1d(z)\n",
    "print(\"[=] Resultado da Interpolação Linear com dois pontos: \", round(p(9),2))"
   ]
  },
  {
   "cell_type": "raw",
   "id": "e39b5ea3",
   "metadata": {},
   "source": [
    "[=] Interpolação de Lagrange [=]"
   ]
  },
  {
   "cell_type": "code",
   "execution_count": 9,
   "id": "f8504417",
   "metadata": {},
   "outputs": [
    {
     "name": "stdout",
     "output_type": "stream",
     "text": [
      "[=] Resultado da Interpolação de Lagrange:  21.7\n"
     ]
    }
   ],
   "source": [
    "import sympy as sy\n",
    "import numpy as np\n",
    "from scipy.interpolate import lagrange\n",
    "from numpy.polynomial.polynomial import Polynomial\n",
    "from scipy.interpolate import lagrange\n",
    "x=[1,7,14]       \n",
    "y=[10.5,17.7,35.2]  \n",
    "x = np.array(x)\n",
    "y = np.array(y)\n",
    "poly = lagrange(x, y)\n",
    "Polynomial(poly).coef\n",
    "print(\"[=] Resultado da Interpolação de Lagrange: \",round(poly(9),1))"
   ]
  },
  {
   "cell_type": "raw",
   "id": "ec2280b7",
   "metadata": {},
   "source": [
    "[+] Exercício 2 [+]"
   ]
  },
  {
   "cell_type": "raw",
   "id": "ce1bdfd6",
   "metadata": {},
   "source": [
    "[=] Método de Simpson [=]"
   ]
  },
  {
   "cell_type": "code",
   "execution_count": 5,
   "id": "1c343c5b",
   "metadata": {},
   "outputs": [],
   "source": [
    "import numpy as np\n",
    "\n",
    "def f(x):\n",
    "    return x*np.exp(x/2)\n",
    "\n",
    "\n",
    "def simpson13(x0,xn,n):\n",
    "    # calculating step size\n",
    "    h = (xn - x0) / n\n",
    "    \n",
    "    \n",
    "    # Finding sum \n",
    "    integration = f(x0) + f(xn)\n",
    "    \n",
    "    for i in range(1,n):\n",
    "        k = x0 + i*h\n",
    "        \n",
    "        if i%2 == 0:\n",
    "            integration = integration + 2 * f(k)\n",
    "        else:\n",
    "            integration = integration + 4 * f(k)\n",
    "    \n",
    "    # Finding final integration value\n",
    "    integration = integration * h/3\n",
    "    \n",
    "    return integration"
   ]
  },
  {
   "cell_type": "code",
   "execution_count": 6,
   "id": "a3c88c6b",
   "metadata": {},
   "outputs": [
    {
     "name": "stdout",
     "output_type": "stream",
     "text": [
      "[=] Resultado da integração por Simpson é: 8.96\n"
     ]
    }
   ],
   "source": [
    "result = simpson13(2, 3, 4)\n",
    "print(\"[=] Resultado da integração por Simpson é: %0.2f\" % (result) )"
   ]
  },
  {
   "cell_type": "raw",
   "id": "f8100c2c",
   "metadata": {},
   "source": [
    "[+] Regra do Trapézio [+]"
   ]
  },
  {
   "cell_type": "code",
   "execution_count": 10,
   "id": "92acc610",
   "metadata": {},
   "outputs": [
    {
     "name": "stdout",
     "output_type": "stream",
     "text": [
      "[=] 9.016742584604309\n"
     ]
    }
   ],
   "source": [
    "import numpy as np\n",
    "x = np.linspace(2.0, 3.0, 4)\n",
    "y = x * np.exp(x/2)\n",
    "I = np.trapz(y,x)\n",
    "print(\"[=]\", I)"
   ]
  },
  {
   "cell_type": "code",
   "execution_count": 11,
   "id": "020c221a",
   "metadata": {},
   "outputs": [
    {
     "name": "stdout",
     "output_type": "stream",
     "text": [
      "[=] (8.963378140676129, 9.951348790200464e-14)\n"
     ]
    }
   ],
   "source": [
    "import scipy.integrate as si\n",
    "import numpy as np\n",
    "i = si.quad(lambda x: x*np.exp(x/2),2,3)\n",
    "print(\"[=]\", i)"
   ]
  }
 ],
 "metadata": {
  "kernelspec": {
   "display_name": "Python 3 (ipykernel)",
   "language": "python",
   "name": "python3"
  },
  "language_info": {
   "codemirror_mode": {
    "name": "ipython",
    "version": 3
   },
   "file_extension": ".py",
   "mimetype": "text/x-python",
   "name": "python",
   "nbconvert_exporter": "python",
   "pygments_lexer": "ipython3",
   "version": "3.9.5"
  }
 },
 "nbformat": 4,
 "nbformat_minor": 5
}
